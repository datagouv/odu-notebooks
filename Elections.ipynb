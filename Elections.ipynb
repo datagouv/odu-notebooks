{
 "cells": [
  {
   "cell_type": "markdown",
   "id": "57044db2",
   "metadata": {},
   "source": [
    "#### Contexte du projet\n",
    "\n",
    "*Description rapide des utilisateurs, de la problématique, de l'état de l'art et des besoins.*\n",
    "\n",
    "Les résultats d’une élection sont souvent analysés à différentes échelles géographiques, et notamment à la commune. \n",
    "\n",
    "Depuis 2023, l’Insee met à disposition des données [reliant les adresses des électeurs à leur bureau de vote de rattachement](https://www.data.gouv.fr/fr/datasets/bureaux-de-vote-et-adresses-de-leurs-electeurs/), qui **ouvrent des possibilités d’analyses inédites**. Celles-ci peuvent être utilisées pour générer des contours de bureaux de vote, ce qui permet ensuite de croiser les données des élections du Ministère de l’intérieur et des Outre-mer avec d’autres informations (niveau de vie, âge, etc.) et d’**étudier les comportements électoraux à une échelle infra-communale**.\n",
    "\n",
    "Avant la publication de ces données, des travaux à l'échelle du bureau de vote avaient déjà pu être menés en utilisant des données locales ou issues de projets de recherche (Cartelec).\n",
    "\n",
    "**La problématique**\n",
    "\n",
    "Ce projet vous propose de **mettre en regard les résultats des élections avec les caractéristiques sociodémographiques des électeurs à différentes échelles géographiques et notamment au niveau infra-communal**."
   ]
  },
  {
   "cell_type": "markdown",
   "id": "783bd8ff",
   "metadata": {},
   "source": [
    "## Exemple : évolution des taux d'abstention"
   ]
  },
  {
   "cell_type": "code",
   "execution_count": 1,
   "id": "9a4608a1",
   "metadata": {},
   "outputs": [],
   "source": [
    "import pandas as pd\n",
    "import plotly.express as px"
   ]
  },
  {
   "cell_type": "code",
   "execution_count": 6,
   "id": "c3b0c495",
   "metadata": {},
   "outputs": [],
   "source": [
    "# import des données\n",
    "resultats = pd.read_parquet(\n",
    "    \"https://www.data.gouv.fr/fr/datasets/r/ff16d511-10c0-405e-9b35-511723948fce\"\n",
    ")"
   ]
  },
  {
   "cell_type": "code",
   "execution_count": 23,
   "id": "0e104e0b",
   "metadata": {
    "scrolled": true
   },
   "outputs": [
    {
     "data": {
      "text/html": [
       "<div>\n",
       "<style scoped>\n",
       "    .dataframe tbody tr th:only-of-type {\n",
       "        vertical-align: middle;\n",
       "    }\n",
       "\n",
       "    .dataframe tbody tr th {\n",
       "        vertical-align: top;\n",
       "    }\n",
       "\n",
       "    .dataframe thead th {\n",
       "        text-align: right;\n",
       "    }\n",
       "</style>\n",
       "<table border=\"1\" class=\"dataframe\">\n",
       "  <thead>\n",
       "    <tr style=\"text-align: right;\">\n",
       "      <th></th>\n",
       "      <th>id_election</th>\n",
       "      <th>id_brut_miom</th>\n",
       "      <th>Code du département</th>\n",
       "      <th>Libellé du département</th>\n",
       "      <th>Code de la commune</th>\n",
       "      <th>Libellé de la commune</th>\n",
       "      <th>Code du b.vote</th>\n",
       "      <th>Inscrits</th>\n",
       "      <th>Abstentions</th>\n",
       "      <th>% Abs/Ins</th>\n",
       "      <th>...</th>\n",
       "      <th>Nuls</th>\n",
       "      <th>% Nuls/Ins</th>\n",
       "      <th>% Nuls/Vot</th>\n",
       "      <th>Exprimés</th>\n",
       "      <th>% Exp/Ins</th>\n",
       "      <th>% Exp/Vot</th>\n",
       "      <th>Code de la circonscription</th>\n",
       "      <th>Libellé de la circonscription</th>\n",
       "      <th>Code du canton</th>\n",
       "      <th>Libellé du canton</th>\n",
       "    </tr>\n",
       "  </thead>\n",
       "  <tbody>\n",
       "    <tr>\n",
       "      <th>69297</th>\n",
       "      <td>2017_legi_t1</td>\n",
       "      <td>01001_0001</td>\n",
       "      <td>01</td>\n",
       "      <td>Ain</td>\n",
       "      <td>001</td>\n",
       "      <td>L'Abergement-Clémenciat</td>\n",
       "      <td>0001</td>\n",
       "      <td>598</td>\n",
       "      <td>261</td>\n",
       "      <td>43.650002</td>\n",
       "      <td>...</td>\n",
       "      <td>0</td>\n",
       "      <td>0.00</td>\n",
       "      <td>0.00</td>\n",
       "      <td>337</td>\n",
       "      <td>56.349998</td>\n",
       "      <td>100.000000</td>\n",
       "      <td>04</td>\n",
       "      <td>4ème circonscription</td>\n",
       "      <td>None</td>\n",
       "      <td>None</td>\n",
       "    </tr>\n",
       "    <tr>\n",
       "      <th>69298</th>\n",
       "      <td>2017_legi_t1</td>\n",
       "      <td>01002_0001</td>\n",
       "      <td>01</td>\n",
       "      <td>Ain</td>\n",
       "      <td>002</td>\n",
       "      <td>L'Abergement-de-Varey</td>\n",
       "      <td>0001</td>\n",
       "      <td>211</td>\n",
       "      <td>79</td>\n",
       "      <td>37.439999</td>\n",
       "      <td>...</td>\n",
       "      <td>1</td>\n",
       "      <td>0.47</td>\n",
       "      <td>0.76</td>\n",
       "      <td>128</td>\n",
       "      <td>60.660000</td>\n",
       "      <td>96.970001</td>\n",
       "      <td>05</td>\n",
       "      <td>5ème circonscription</td>\n",
       "      <td>None</td>\n",
       "      <td>None</td>\n",
       "    </tr>\n",
       "    <tr>\n",
       "      <th>69299</th>\n",
       "      <td>2017_legi_t1</td>\n",
       "      <td>01004_0001</td>\n",
       "      <td>01</td>\n",
       "      <td>Ain</td>\n",
       "      <td>004</td>\n",
       "      <td>Ambérieu-en-Bugey</td>\n",
       "      <td>0001</td>\n",
       "      <td>1126</td>\n",
       "      <td>637</td>\n",
       "      <td>56.570000</td>\n",
       "      <td>...</td>\n",
       "      <td>3</td>\n",
       "      <td>0.27</td>\n",
       "      <td>0.61</td>\n",
       "      <td>476</td>\n",
       "      <td>42.270000</td>\n",
       "      <td>97.339996</td>\n",
       "      <td>05</td>\n",
       "      <td>5ème circonscription</td>\n",
       "      <td>None</td>\n",
       "      <td>None</td>\n",
       "    </tr>\n",
       "    <tr>\n",
       "      <th>69300</th>\n",
       "      <td>2017_legi_t1</td>\n",
       "      <td>01004_0002</td>\n",
       "      <td>01</td>\n",
       "      <td>Ain</td>\n",
       "      <td>004</td>\n",
       "      <td>Ambérieu-en-Bugey</td>\n",
       "      <td>0002</td>\n",
       "      <td>1134</td>\n",
       "      <td>579</td>\n",
       "      <td>51.060001</td>\n",
       "      <td>...</td>\n",
       "      <td>3</td>\n",
       "      <td>0.26</td>\n",
       "      <td>0.54</td>\n",
       "      <td>541</td>\n",
       "      <td>47.709999</td>\n",
       "      <td>97.480003</td>\n",
       "      <td>05</td>\n",
       "      <td>5ème circonscription</td>\n",
       "      <td>None</td>\n",
       "      <td>None</td>\n",
       "    </tr>\n",
       "    <tr>\n",
       "      <th>69301</th>\n",
       "      <td>2017_legi_t1</td>\n",
       "      <td>01004_0003</td>\n",
       "      <td>01</td>\n",
       "      <td>Ain</td>\n",
       "      <td>004</td>\n",
       "      <td>Ambérieu-en-Bugey</td>\n",
       "      <td>0003</td>\n",
       "      <td>1117</td>\n",
       "      <td>560</td>\n",
       "      <td>50.130001</td>\n",
       "      <td>...</td>\n",
       "      <td>3</td>\n",
       "      <td>0.27</td>\n",
       "      <td>0.54</td>\n",
       "      <td>548</td>\n",
       "      <td>49.060001</td>\n",
       "      <td>98.379997</td>\n",
       "      <td>05</td>\n",
       "      <td>5ème circonscription</td>\n",
       "      <td>None</td>\n",
       "      <td>None</td>\n",
       "    </tr>\n",
       "    <tr>\n",
       "      <th>...</th>\n",
       "      <td>...</td>\n",
       "      <td>...</td>\n",
       "      <td>...</td>\n",
       "      <td>...</td>\n",
       "      <td>...</td>\n",
       "      <td>...</td>\n",
       "      <td>...</td>\n",
       "      <td>...</td>\n",
       "      <td>...</td>\n",
       "      <td>...</td>\n",
       "      <td>...</td>\n",
       "      <td>...</td>\n",
       "      <td>...</td>\n",
       "      <td>...</td>\n",
       "      <td>...</td>\n",
       "      <td>...</td>\n",
       "      <td>...</td>\n",
       "      <td>...</td>\n",
       "      <td>...</td>\n",
       "      <td>...</td>\n",
       "      <td>...</td>\n",
       "    </tr>\n",
       "    <tr>\n",
       "      <th>2546946</th>\n",
       "      <td>2012_legi_t2</td>\n",
       "      <td>95680_0011</td>\n",
       "      <td>95</td>\n",
       "      <td>None</td>\n",
       "      <td>680</td>\n",
       "      <td>Villiers-le-Bel</td>\n",
       "      <td>0011</td>\n",
       "      <td>1223</td>\n",
       "      <td>766</td>\n",
       "      <td>62.630001</td>\n",
       "      <td>...</td>\n",
       "      <td>21</td>\n",
       "      <td>1.72</td>\n",
       "      <td>4.60</td>\n",
       "      <td>436</td>\n",
       "      <td>35.650002</td>\n",
       "      <td>95.400002</td>\n",
       "      <td>08</td>\n",
       "      <td>None</td>\n",
       "      <td>35</td>\n",
       "      <td>None</td>\n",
       "    </tr>\n",
       "    <tr>\n",
       "      <th>2546947</th>\n",
       "      <td>2012_legi_t2</td>\n",
       "      <td>95680_0012</td>\n",
       "      <td>95</td>\n",
       "      <td>None</td>\n",
       "      <td>680</td>\n",
       "      <td>Villiers-le-Bel</td>\n",
       "      <td>0012</td>\n",
       "      <td>950</td>\n",
       "      <td>524</td>\n",
       "      <td>55.160000</td>\n",
       "      <td>...</td>\n",
       "      <td>18</td>\n",
       "      <td>1.89</td>\n",
       "      <td>4.23</td>\n",
       "      <td>408</td>\n",
       "      <td>42.950001</td>\n",
       "      <td>95.769997</td>\n",
       "      <td>08</td>\n",
       "      <td>None</td>\n",
       "      <td>35</td>\n",
       "      <td>None</td>\n",
       "    </tr>\n",
       "    <tr>\n",
       "      <th>2546948</th>\n",
       "      <td>2012_legi_t2</td>\n",
       "      <td>95680_0013</td>\n",
       "      <td>95</td>\n",
       "      <td>None</td>\n",
       "      <td>680</td>\n",
       "      <td>Villiers-le-Bel</td>\n",
       "      <td>0013</td>\n",
       "      <td>658</td>\n",
       "      <td>418</td>\n",
       "      <td>63.529999</td>\n",
       "      <td>...</td>\n",
       "      <td>11</td>\n",
       "      <td>1.67</td>\n",
       "      <td>4.58</td>\n",
       "      <td>229</td>\n",
       "      <td>34.799999</td>\n",
       "      <td>95.419998</td>\n",
       "      <td>08</td>\n",
       "      <td>None</td>\n",
       "      <td>35</td>\n",
       "      <td>None</td>\n",
       "    </tr>\n",
       "    <tr>\n",
       "      <th>2546949</th>\n",
       "      <td>2012_legi_t2</td>\n",
       "      <td>95682_0001</td>\n",
       "      <td>95</td>\n",
       "      <td>None</td>\n",
       "      <td>682</td>\n",
       "      <td>Villiers-le-Sec</td>\n",
       "      <td>0001</td>\n",
       "      <td>95</td>\n",
       "      <td>24</td>\n",
       "      <td>25.260000</td>\n",
       "      <td>...</td>\n",
       "      <td>0</td>\n",
       "      <td>0.00</td>\n",
       "      <td>0.00</td>\n",
       "      <td>71</td>\n",
       "      <td>74.739998</td>\n",
       "      <td>100.000000</td>\n",
       "      <td>09</td>\n",
       "      <td>None</td>\n",
       "      <td>15</td>\n",
       "      <td>None</td>\n",
       "    </tr>\n",
       "    <tr>\n",
       "      <th>2546950</th>\n",
       "      <td>2012_legi_t2</td>\n",
       "      <td>95690_0001</td>\n",
       "      <td>95</td>\n",
       "      <td>None</td>\n",
       "      <td>690</td>\n",
       "      <td>Wy-dit-Joli-Village</td>\n",
       "      <td>0001</td>\n",
       "      <td>277</td>\n",
       "      <td>96</td>\n",
       "      <td>34.660000</td>\n",
       "      <td>...</td>\n",
       "      <td>3</td>\n",
       "      <td>1.08</td>\n",
       "      <td>1.66</td>\n",
       "      <td>178</td>\n",
       "      <td>64.260002</td>\n",
       "      <td>98.339996</td>\n",
       "      <td>01</td>\n",
       "      <td>None</td>\n",
       "      <td>16</td>\n",
       "      <td>None</td>\n",
       "    </tr>\n",
       "  </tbody>\n",
       "</table>\n",
       "<p>645977 rows × 25 columns</p>\n",
       "</div>"
      ],
      "text/plain": [
       "          id_election id_brut_miom Code du département Libellé du département  \\\n",
       "69297    2017_legi_t1   01001_0001                  01                    Ain   \n",
       "69298    2017_legi_t1   01002_0001                  01                    Ain   \n",
       "69299    2017_legi_t1   01004_0001                  01                    Ain   \n",
       "69300    2017_legi_t1   01004_0002                  01                    Ain   \n",
       "69301    2017_legi_t1   01004_0003                  01                    Ain   \n",
       "...               ...          ...                 ...                    ...   \n",
       "2546946  2012_legi_t2   95680_0011                  95                   None   \n",
       "2546947  2012_legi_t2   95680_0012                  95                   None   \n",
       "2546948  2012_legi_t2   95680_0013                  95                   None   \n",
       "2546949  2012_legi_t2   95682_0001                  95                   None   \n",
       "2546950  2012_legi_t2   95690_0001                  95                   None   \n",
       "\n",
       "        Code de la commune    Libellé de la commune Code du b.vote  Inscrits  \\\n",
       "69297                  001  L'Abergement-Clémenciat           0001       598   \n",
       "69298                  002    L'Abergement-de-Varey           0001       211   \n",
       "69299                  004        Ambérieu-en-Bugey           0001      1126   \n",
       "69300                  004        Ambérieu-en-Bugey           0002      1134   \n",
       "69301                  004        Ambérieu-en-Bugey           0003      1117   \n",
       "...                    ...                      ...            ...       ...   \n",
       "2546946                680          Villiers-le-Bel           0011      1223   \n",
       "2546947                680          Villiers-le-Bel           0012       950   \n",
       "2546948                680          Villiers-le-Bel           0013       658   \n",
       "2546949                682          Villiers-le-Sec           0001        95   \n",
       "2546950                690      Wy-dit-Joli-Village           0001       277   \n",
       "\n",
       "         Abstentions  % Abs/Ins  ...  Nuls  % Nuls/Ins  % Nuls/Vot  Exprimés  \\\n",
       "69297            261  43.650002  ...     0        0.00        0.00       337   \n",
       "69298             79  37.439999  ...     1        0.47        0.76       128   \n",
       "69299            637  56.570000  ...     3        0.27        0.61       476   \n",
       "69300            579  51.060001  ...     3        0.26        0.54       541   \n",
       "69301            560  50.130001  ...     3        0.27        0.54       548   \n",
       "...              ...        ...  ...   ...         ...         ...       ...   \n",
       "2546946          766  62.630001  ...    21        1.72        4.60       436   \n",
       "2546947          524  55.160000  ...    18        1.89        4.23       408   \n",
       "2546948          418  63.529999  ...    11        1.67        4.58       229   \n",
       "2546949           24  25.260000  ...     0        0.00        0.00        71   \n",
       "2546950           96  34.660000  ...     3        1.08        1.66       178   \n",
       "\n",
       "         % Exp/Ins   % Exp/Vot  Code de la circonscription  \\\n",
       "69297    56.349998  100.000000                          04   \n",
       "69298    60.660000   96.970001                          05   \n",
       "69299    42.270000   97.339996                          05   \n",
       "69300    47.709999   97.480003                          05   \n",
       "69301    49.060001   98.379997                          05   \n",
       "...            ...         ...                         ...   \n",
       "2546946  35.650002   95.400002                          08   \n",
       "2546947  42.950001   95.769997                          08   \n",
       "2546948  34.799999   95.419998                          08   \n",
       "2546949  74.739998  100.000000                          09   \n",
       "2546950  64.260002   98.339996                          01   \n",
       "\n",
       "         Libellé de la circonscription  Code du canton  Libellé du canton  \n",
       "69297             4ème circonscription            None               None  \n",
       "69298             5ème circonscription            None               None  \n",
       "69299             5ème circonscription            None               None  \n",
       "69300             5ème circonscription            None               None  \n",
       "69301             5ème circonscription            None               None  \n",
       "...                                ...             ...                ...  \n",
       "2546946                           None              35               None  \n",
       "2546947                           None              35               None  \n",
       "2546948                           None              35               None  \n",
       "2546949                           None              15               None  \n",
       "2546950                           None              16               None  \n",
       "\n",
       "[645977 rows x 25 columns]"
      ]
     },
     "execution_count": 23,
     "metadata": {},
     "output_type": "execute_result"
    }
   ],
   "source": [
    "# on choisit un type d'élections à analyser\n",
    "mapping = {\n",
    "    \"pres\": \"présidentielles\",\n",
    "    \"legi\": \"législatives\",\n",
    "    \"regi\": \"régionnales\",\n",
    "    \"euro\": \"européennes\",\n",
    "    \"dpmt\": \"départementales\",\n",
    "    \"cant\": \"cantonnales\",\n",
    "    \"muni\": \"municipales\",\n",
    "}\n",
    "\n",
    "election_type = \"legi\"\n",
    "resultats_filtres = resultats.loc[resultats['id_election'].str.contains(election_type)]\n",
    "resultats_filtres"
   ]
  },
  {
   "cell_type": "code",
   "execution_count": 24,
   "id": "961a86ab",
   "metadata": {},
   "outputs": [
    {
     "data": {
      "text/plain": [
       "2022_legi_t1    69682\n",
       "2022_legi_t2    69355\n",
       "2017_legi_t1    69242\n",
       "2017_legi_t2    68767\n",
       "2012_legi_t1    67932\n",
       "2007_legi_t1    65618\n",
       "2002_legi_t1    63394\n",
       "2012_legi_t2    62633\n",
       "2002_legi_t2    57575\n",
       "2007_legi_t2    51779\n",
       "Name: id_election, dtype: int64"
      ]
     },
     "execution_count": 24,
     "metadata": {},
     "output_type": "execute_result"
    }
   ],
   "source": [
    "resultats_filtres['id_election'].value_counts()"
   ]
  },
  {
   "cell_type": "code",
   "execution_count": 25,
   "id": "3e5df59d",
   "metadata": {},
   "outputs": [
    {
     "data": {
      "application/vnd.plotly.v1+json": {
       "config": {
        "plotlyServerURL": "https://plot.ly"
       },
       "data": [
        {
         "hovertemplate": "tour=t1<br>annee=%{x}<br>taux_abstention=%{y}<extra></extra>",
         "legendgroup": "t1",
         "line": {
          "color": "#636efa",
          "dash": "solid"
         },
         "marker": {
          "symbol": "circle"
         },
         "mode": "lines",
         "name": "t1",
         "orientation": "v",
         "showlegend": true,
         "type": "scatter",
         "x": [
          "2002",
          "2007",
          "2012",
          "2017",
          "2022"
         ],
         "xaxis": "x",
         "y": [
          35.470638006113276,
          39.5391751230617,
          42.778170660935366,
          51.299081700804706,
          52.4935108135132
         ],
         "yaxis": "y"
        },
        {
         "hovertemplate": "tour=t2<br>annee=%{x}<br>taux_abstention=%{y}<extra></extra>",
         "legendgroup": "t2",
         "line": {
          "color": "#EF553B",
          "dash": "solid"
         },
         "marker": {
          "symbol": "circle"
         },
         "mode": "lines",
         "name": "t2",
         "orientation": "v",
         "showlegend": true,
         "type": "scatter",
         "x": [
          "2002",
          "2007",
          "2012",
          "2017",
          "2022"
         ],
         "xaxis": "x",
         "y": [
          39.636920717309174,
          40.03759035426408,
          44.596695904356416,
          57.3624614988786,
          53.76727483651544
         ],
         "yaxis": "y"
        }
       ],
       "layout": {
        "legend": {
         "title": {
          "text": "tour"
         },
         "tracegroupgap": 0
        },
        "template": {
         "data": {
          "bar": [
           {
            "error_x": {
             "color": "#2a3f5f"
            },
            "error_y": {
             "color": "#2a3f5f"
            },
            "marker": {
             "line": {
              "color": "#E5ECF6",
              "width": 0.5
             },
             "pattern": {
              "fillmode": "overlay",
              "size": 10,
              "solidity": 0.2
             }
            },
            "type": "bar"
           }
          ],
          "barpolar": [
           {
            "marker": {
             "line": {
              "color": "#E5ECF6",
              "width": 0.5
             },
             "pattern": {
              "fillmode": "overlay",
              "size": 10,
              "solidity": 0.2
             }
            },
            "type": "barpolar"
           }
          ],
          "carpet": [
           {
            "aaxis": {
             "endlinecolor": "#2a3f5f",
             "gridcolor": "white",
             "linecolor": "white",
             "minorgridcolor": "white",
             "startlinecolor": "#2a3f5f"
            },
            "baxis": {
             "endlinecolor": "#2a3f5f",
             "gridcolor": "white",
             "linecolor": "white",
             "minorgridcolor": "white",
             "startlinecolor": "#2a3f5f"
            },
            "type": "carpet"
           }
          ],
          "choropleth": [
           {
            "colorbar": {
             "outlinewidth": 0,
             "ticks": ""
            },
            "type": "choropleth"
           }
          ],
          "contour": [
           {
            "colorbar": {
             "outlinewidth": 0,
             "ticks": ""
            },
            "colorscale": [
             [
              0,
              "#0d0887"
             ],
             [
              0.1111111111111111,
              "#46039f"
             ],
             [
              0.2222222222222222,
              "#7201a8"
             ],
             [
              0.3333333333333333,
              "#9c179e"
             ],
             [
              0.4444444444444444,
              "#bd3786"
             ],
             [
              0.5555555555555556,
              "#d8576b"
             ],
             [
              0.6666666666666666,
              "#ed7953"
             ],
             [
              0.7777777777777778,
              "#fb9f3a"
             ],
             [
              0.8888888888888888,
              "#fdca26"
             ],
             [
              1,
              "#f0f921"
             ]
            ],
            "type": "contour"
           }
          ],
          "contourcarpet": [
           {
            "colorbar": {
             "outlinewidth": 0,
             "ticks": ""
            },
            "type": "contourcarpet"
           }
          ],
          "heatmap": [
           {
            "colorbar": {
             "outlinewidth": 0,
             "ticks": ""
            },
            "colorscale": [
             [
              0,
              "#0d0887"
             ],
             [
              0.1111111111111111,
              "#46039f"
             ],
             [
              0.2222222222222222,
              "#7201a8"
             ],
             [
              0.3333333333333333,
              "#9c179e"
             ],
             [
              0.4444444444444444,
              "#bd3786"
             ],
             [
              0.5555555555555556,
              "#d8576b"
             ],
             [
              0.6666666666666666,
              "#ed7953"
             ],
             [
              0.7777777777777778,
              "#fb9f3a"
             ],
             [
              0.8888888888888888,
              "#fdca26"
             ],
             [
              1,
              "#f0f921"
             ]
            ],
            "type": "heatmap"
           }
          ],
          "heatmapgl": [
           {
            "colorbar": {
             "outlinewidth": 0,
             "ticks": ""
            },
            "colorscale": [
             [
              0,
              "#0d0887"
             ],
             [
              0.1111111111111111,
              "#46039f"
             ],
             [
              0.2222222222222222,
              "#7201a8"
             ],
             [
              0.3333333333333333,
              "#9c179e"
             ],
             [
              0.4444444444444444,
              "#bd3786"
             ],
             [
              0.5555555555555556,
              "#d8576b"
             ],
             [
              0.6666666666666666,
              "#ed7953"
             ],
             [
              0.7777777777777778,
              "#fb9f3a"
             ],
             [
              0.8888888888888888,
              "#fdca26"
             ],
             [
              1,
              "#f0f921"
             ]
            ],
            "type": "heatmapgl"
           }
          ],
          "histogram": [
           {
            "marker": {
             "pattern": {
              "fillmode": "overlay",
              "size": 10,
              "solidity": 0.2
             }
            },
            "type": "histogram"
           }
          ],
          "histogram2d": [
           {
            "colorbar": {
             "outlinewidth": 0,
             "ticks": ""
            },
            "colorscale": [
             [
              0,
              "#0d0887"
             ],
             [
              0.1111111111111111,
              "#46039f"
             ],
             [
              0.2222222222222222,
              "#7201a8"
             ],
             [
              0.3333333333333333,
              "#9c179e"
             ],
             [
              0.4444444444444444,
              "#bd3786"
             ],
             [
              0.5555555555555556,
              "#d8576b"
             ],
             [
              0.6666666666666666,
              "#ed7953"
             ],
             [
              0.7777777777777778,
              "#fb9f3a"
             ],
             [
              0.8888888888888888,
              "#fdca26"
             ],
             [
              1,
              "#f0f921"
             ]
            ],
            "type": "histogram2d"
           }
          ],
          "histogram2dcontour": [
           {
            "colorbar": {
             "outlinewidth": 0,
             "ticks": ""
            },
            "colorscale": [
             [
              0,
              "#0d0887"
             ],
             [
              0.1111111111111111,
              "#46039f"
             ],
             [
              0.2222222222222222,
              "#7201a8"
             ],
             [
              0.3333333333333333,
              "#9c179e"
             ],
             [
              0.4444444444444444,
              "#bd3786"
             ],
             [
              0.5555555555555556,
              "#d8576b"
             ],
             [
              0.6666666666666666,
              "#ed7953"
             ],
             [
              0.7777777777777778,
              "#fb9f3a"
             ],
             [
              0.8888888888888888,
              "#fdca26"
             ],
             [
              1,
              "#f0f921"
             ]
            ],
            "type": "histogram2dcontour"
           }
          ],
          "mesh3d": [
           {
            "colorbar": {
             "outlinewidth": 0,
             "ticks": ""
            },
            "type": "mesh3d"
           }
          ],
          "parcoords": [
           {
            "line": {
             "colorbar": {
              "outlinewidth": 0,
              "ticks": ""
             }
            },
            "type": "parcoords"
           }
          ],
          "pie": [
           {
            "automargin": true,
            "type": "pie"
           }
          ],
          "scatter": [
           {
            "fillpattern": {
             "fillmode": "overlay",
             "size": 10,
             "solidity": 0.2
            },
            "type": "scatter"
           }
          ],
          "scatter3d": [
           {
            "line": {
             "colorbar": {
              "outlinewidth": 0,
              "ticks": ""
             }
            },
            "marker": {
             "colorbar": {
              "outlinewidth": 0,
              "ticks": ""
             }
            },
            "type": "scatter3d"
           }
          ],
          "scattercarpet": [
           {
            "marker": {
             "colorbar": {
              "outlinewidth": 0,
              "ticks": ""
             }
            },
            "type": "scattercarpet"
           }
          ],
          "scattergeo": [
           {
            "marker": {
             "colorbar": {
              "outlinewidth": 0,
              "ticks": ""
             }
            },
            "type": "scattergeo"
           }
          ],
          "scattergl": [
           {
            "marker": {
             "colorbar": {
              "outlinewidth": 0,
              "ticks": ""
             }
            },
            "type": "scattergl"
           }
          ],
          "scattermapbox": [
           {
            "marker": {
             "colorbar": {
              "outlinewidth": 0,
              "ticks": ""
             }
            },
            "type": "scattermapbox"
           }
          ],
          "scatterpolar": [
           {
            "marker": {
             "colorbar": {
              "outlinewidth": 0,
              "ticks": ""
             }
            },
            "type": "scatterpolar"
           }
          ],
          "scatterpolargl": [
           {
            "marker": {
             "colorbar": {
              "outlinewidth": 0,
              "ticks": ""
             }
            },
            "type": "scatterpolargl"
           }
          ],
          "scatterternary": [
           {
            "marker": {
             "colorbar": {
              "outlinewidth": 0,
              "ticks": ""
             }
            },
            "type": "scatterternary"
           }
          ],
          "surface": [
           {
            "colorbar": {
             "outlinewidth": 0,
             "ticks": ""
            },
            "colorscale": [
             [
              0,
              "#0d0887"
             ],
             [
              0.1111111111111111,
              "#46039f"
             ],
             [
              0.2222222222222222,
              "#7201a8"
             ],
             [
              0.3333333333333333,
              "#9c179e"
             ],
             [
              0.4444444444444444,
              "#bd3786"
             ],
             [
              0.5555555555555556,
              "#d8576b"
             ],
             [
              0.6666666666666666,
              "#ed7953"
             ],
             [
              0.7777777777777778,
              "#fb9f3a"
             ],
             [
              0.8888888888888888,
              "#fdca26"
             ],
             [
              1,
              "#f0f921"
             ]
            ],
            "type": "surface"
           }
          ],
          "table": [
           {
            "cells": {
             "fill": {
              "color": "#EBF0F8"
             },
             "line": {
              "color": "white"
             }
            },
            "header": {
             "fill": {
              "color": "#C8D4E3"
             },
             "line": {
              "color": "white"
             }
            },
            "type": "table"
           }
          ]
         },
         "layout": {
          "annotationdefaults": {
           "arrowcolor": "#2a3f5f",
           "arrowhead": 0,
           "arrowwidth": 1
          },
          "autotypenumbers": "strict",
          "coloraxis": {
           "colorbar": {
            "outlinewidth": 0,
            "ticks": ""
           }
          },
          "colorscale": {
           "diverging": [
            [
             0,
             "#8e0152"
            ],
            [
             0.1,
             "#c51b7d"
            ],
            [
             0.2,
             "#de77ae"
            ],
            [
             0.3,
             "#f1b6da"
            ],
            [
             0.4,
             "#fde0ef"
            ],
            [
             0.5,
             "#f7f7f7"
            ],
            [
             0.6,
             "#e6f5d0"
            ],
            [
             0.7,
             "#b8e186"
            ],
            [
             0.8,
             "#7fbc41"
            ],
            [
             0.9,
             "#4d9221"
            ],
            [
             1,
             "#276419"
            ]
           ],
           "sequential": [
            [
             0,
             "#0d0887"
            ],
            [
             0.1111111111111111,
             "#46039f"
            ],
            [
             0.2222222222222222,
             "#7201a8"
            ],
            [
             0.3333333333333333,
             "#9c179e"
            ],
            [
             0.4444444444444444,
             "#bd3786"
            ],
            [
             0.5555555555555556,
             "#d8576b"
            ],
            [
             0.6666666666666666,
             "#ed7953"
            ],
            [
             0.7777777777777778,
             "#fb9f3a"
            ],
            [
             0.8888888888888888,
             "#fdca26"
            ],
            [
             1,
             "#f0f921"
            ]
           ],
           "sequentialminus": [
            [
             0,
             "#0d0887"
            ],
            [
             0.1111111111111111,
             "#46039f"
            ],
            [
             0.2222222222222222,
             "#7201a8"
            ],
            [
             0.3333333333333333,
             "#9c179e"
            ],
            [
             0.4444444444444444,
             "#bd3786"
            ],
            [
             0.5555555555555556,
             "#d8576b"
            ],
            [
             0.6666666666666666,
             "#ed7953"
            ],
            [
             0.7777777777777778,
             "#fb9f3a"
            ],
            [
             0.8888888888888888,
             "#fdca26"
            ],
            [
             1,
             "#f0f921"
            ]
           ]
          },
          "colorway": [
           "#636efa",
           "#EF553B",
           "#00cc96",
           "#ab63fa",
           "#FFA15A",
           "#19d3f3",
           "#FF6692",
           "#B6E880",
           "#FF97FF",
           "#FECB52"
          ],
          "font": {
           "color": "#2a3f5f"
          },
          "geo": {
           "bgcolor": "white",
           "lakecolor": "white",
           "landcolor": "#E5ECF6",
           "showlakes": true,
           "showland": true,
           "subunitcolor": "white"
          },
          "hoverlabel": {
           "align": "left"
          },
          "hovermode": "closest",
          "mapbox": {
           "style": "light"
          },
          "paper_bgcolor": "white",
          "plot_bgcolor": "#E5ECF6",
          "polar": {
           "angularaxis": {
            "gridcolor": "white",
            "linecolor": "white",
            "ticks": ""
           },
           "bgcolor": "#E5ECF6",
           "radialaxis": {
            "gridcolor": "white",
            "linecolor": "white",
            "ticks": ""
           }
          },
          "scene": {
           "xaxis": {
            "backgroundcolor": "#E5ECF6",
            "gridcolor": "white",
            "gridwidth": 2,
            "linecolor": "white",
            "showbackground": true,
            "ticks": "",
            "zerolinecolor": "white"
           },
           "yaxis": {
            "backgroundcolor": "#E5ECF6",
            "gridcolor": "white",
            "gridwidth": 2,
            "linecolor": "white",
            "showbackground": true,
            "ticks": "",
            "zerolinecolor": "white"
           },
           "zaxis": {
            "backgroundcolor": "#E5ECF6",
            "gridcolor": "white",
            "gridwidth": 2,
            "linecolor": "white",
            "showbackground": true,
            "ticks": "",
            "zerolinecolor": "white"
           }
          },
          "shapedefaults": {
           "line": {
            "color": "#2a3f5f"
           }
          },
          "ternary": {
           "aaxis": {
            "gridcolor": "white",
            "linecolor": "white",
            "ticks": ""
           },
           "baxis": {
            "gridcolor": "white",
            "linecolor": "white",
            "ticks": ""
           },
           "bgcolor": "#E5ECF6",
           "caxis": {
            "gridcolor": "white",
            "linecolor": "white",
            "ticks": ""
           }
          },
          "title": {
           "x": 0.05
          },
          "xaxis": {
           "automargin": true,
           "gridcolor": "white",
           "linecolor": "white",
           "ticks": "",
           "title": {
            "standoff": 15
           },
           "zerolinecolor": "white",
           "zerolinewidth": 2
          },
          "yaxis": {
           "automargin": true,
           "gridcolor": "white",
           "linecolor": "white",
           "ticks": "",
           "title": {
            "standoff": 15
           },
           "zerolinecolor": "white",
           "zerolinewidth": 2
          }
         }
        },
        "title": {
         "text": "Taux d'abstention par élection et par tour: législatives"
        },
        "xaxis": {
         "anchor": "y",
         "domain": [
          0,
          1
         ],
         "title": {
          "text": "annee"
         }
        },
        "yaxis": {
         "anchor": "x",
         "domain": [
          0,
          1
         ],
         "range": [
          0,
          63.09870764876647
         ],
         "title": {
          "text": "taux_abstention"
         }
        }
       }
      },
      "text/html": [
       "<div>                            <div id=\"78cbab44-efa1-4d4c-a813-5bc62705fccc\" class=\"plotly-graph-div\" style=\"height:525px; width:100%;\"></div>            <script type=\"text/javascript\">                require([\"plotly\"], function(Plotly) {                    window.PLOTLYENV=window.PLOTLYENV || {};                                    if (document.getElementById(\"78cbab44-efa1-4d4c-a813-5bc62705fccc\")) {                    Plotly.newPlot(                        \"78cbab44-efa1-4d4c-a813-5bc62705fccc\",                        [{\"hovertemplate\":\"tour=t1\\u003cbr\\u003eannee=%{x}\\u003cbr\\u003etaux_abstention=%{y}\\u003cextra\\u003e\\u003c\\u002fextra\\u003e\",\"legendgroup\":\"t1\",\"line\":{\"color\":\"#636efa\",\"dash\":\"solid\"},\"marker\":{\"symbol\":\"circle\"},\"mode\":\"lines\",\"name\":\"t1\",\"orientation\":\"v\",\"showlegend\":true,\"x\":[\"2002\",\"2007\",\"2012\",\"2017\",\"2022\"],\"xaxis\":\"x\",\"y\":[35.470638006113276,39.5391751230617,42.778170660935366,51.299081700804706,52.4935108135132],\"yaxis\":\"y\",\"type\":\"scatter\"},{\"hovertemplate\":\"tour=t2\\u003cbr\\u003eannee=%{x}\\u003cbr\\u003etaux_abstention=%{y}\\u003cextra\\u003e\\u003c\\u002fextra\\u003e\",\"legendgroup\":\"t2\",\"line\":{\"color\":\"#EF553B\",\"dash\":\"solid\"},\"marker\":{\"symbol\":\"circle\"},\"mode\":\"lines\",\"name\":\"t2\",\"orientation\":\"v\",\"showlegend\":true,\"x\":[\"2002\",\"2007\",\"2012\",\"2017\",\"2022\"],\"xaxis\":\"x\",\"y\":[39.636920717309174,40.03759035426408,44.596695904356416,57.3624614988786,53.76727483651544],\"yaxis\":\"y\",\"type\":\"scatter\"}],                        {\"template\":{\"data\":{\"histogram2dcontour\":[{\"type\":\"histogram2dcontour\",\"colorbar\":{\"outlinewidth\":0,\"ticks\":\"\"},\"colorscale\":[[0.0,\"#0d0887\"],[0.1111111111111111,\"#46039f\"],[0.2222222222222222,\"#7201a8\"],[0.3333333333333333,\"#9c179e\"],[0.4444444444444444,\"#bd3786\"],[0.5555555555555556,\"#d8576b\"],[0.6666666666666666,\"#ed7953\"],[0.7777777777777778,\"#fb9f3a\"],[0.8888888888888888,\"#fdca26\"],[1.0,\"#f0f921\"]]}],\"choropleth\":[{\"type\":\"choropleth\",\"colorbar\":{\"outlinewidth\":0,\"ticks\":\"\"}}],\"histogram2d\":[{\"type\":\"histogram2d\",\"colorbar\":{\"outlinewidth\":0,\"ticks\":\"\"},\"colorscale\":[[0.0,\"#0d0887\"],[0.1111111111111111,\"#46039f\"],[0.2222222222222222,\"#7201a8\"],[0.3333333333333333,\"#9c179e\"],[0.4444444444444444,\"#bd3786\"],[0.5555555555555556,\"#d8576b\"],[0.6666666666666666,\"#ed7953\"],[0.7777777777777778,\"#fb9f3a\"],[0.8888888888888888,\"#fdca26\"],[1.0,\"#f0f921\"]]}],\"heatmap\":[{\"type\":\"heatmap\",\"colorbar\":{\"outlinewidth\":0,\"ticks\":\"\"},\"colorscale\":[[0.0,\"#0d0887\"],[0.1111111111111111,\"#46039f\"],[0.2222222222222222,\"#7201a8\"],[0.3333333333333333,\"#9c179e\"],[0.4444444444444444,\"#bd3786\"],[0.5555555555555556,\"#d8576b\"],[0.6666666666666666,\"#ed7953\"],[0.7777777777777778,\"#fb9f3a\"],[0.8888888888888888,\"#fdca26\"],[1.0,\"#f0f921\"]]}],\"heatmapgl\":[{\"type\":\"heatmapgl\",\"colorbar\":{\"outlinewidth\":0,\"ticks\":\"\"},\"colorscale\":[[0.0,\"#0d0887\"],[0.1111111111111111,\"#46039f\"],[0.2222222222222222,\"#7201a8\"],[0.3333333333333333,\"#9c179e\"],[0.4444444444444444,\"#bd3786\"],[0.5555555555555556,\"#d8576b\"],[0.6666666666666666,\"#ed7953\"],[0.7777777777777778,\"#fb9f3a\"],[0.8888888888888888,\"#fdca26\"],[1.0,\"#f0f921\"]]}],\"contourcarpet\":[{\"type\":\"contourcarpet\",\"colorbar\":{\"outlinewidth\":0,\"ticks\":\"\"}}],\"contour\":[{\"type\":\"contour\",\"colorbar\":{\"outlinewidth\":0,\"ticks\":\"\"},\"colorscale\":[[0.0,\"#0d0887\"],[0.1111111111111111,\"#46039f\"],[0.2222222222222222,\"#7201a8\"],[0.3333333333333333,\"#9c179e\"],[0.4444444444444444,\"#bd3786\"],[0.5555555555555556,\"#d8576b\"],[0.6666666666666666,\"#ed7953\"],[0.7777777777777778,\"#fb9f3a\"],[0.8888888888888888,\"#fdca26\"],[1.0,\"#f0f921\"]]}],\"surface\":[{\"type\":\"surface\",\"colorbar\":{\"outlinewidth\":0,\"ticks\":\"\"},\"colorscale\":[[0.0,\"#0d0887\"],[0.1111111111111111,\"#46039f\"],[0.2222222222222222,\"#7201a8\"],[0.3333333333333333,\"#9c179e\"],[0.4444444444444444,\"#bd3786\"],[0.5555555555555556,\"#d8576b\"],[0.6666666666666666,\"#ed7953\"],[0.7777777777777778,\"#fb9f3a\"],[0.8888888888888888,\"#fdca26\"],[1.0,\"#f0f921\"]]}],\"mesh3d\":[{\"type\":\"mesh3d\",\"colorbar\":{\"outlinewidth\":0,\"ticks\":\"\"}}],\"scatter\":[{\"fillpattern\":{\"fillmode\":\"overlay\",\"size\":10,\"solidity\":0.2},\"type\":\"scatter\"}],\"parcoords\":[{\"type\":\"parcoords\",\"line\":{\"colorbar\":{\"outlinewidth\":0,\"ticks\":\"\"}}}],\"scatterpolargl\":[{\"type\":\"scatterpolargl\",\"marker\":{\"colorbar\":{\"outlinewidth\":0,\"ticks\":\"\"}}}],\"bar\":[{\"error_x\":{\"color\":\"#2a3f5f\"},\"error_y\":{\"color\":\"#2a3f5f\"},\"marker\":{\"line\":{\"color\":\"#E5ECF6\",\"width\":0.5},\"pattern\":{\"fillmode\":\"overlay\",\"size\":10,\"solidity\":0.2}},\"type\":\"bar\"}],\"scattergeo\":[{\"type\":\"scattergeo\",\"marker\":{\"colorbar\":{\"outlinewidth\":0,\"ticks\":\"\"}}}],\"scatterpolar\":[{\"type\":\"scatterpolar\",\"marker\":{\"colorbar\":{\"outlinewidth\":0,\"ticks\":\"\"}}}],\"histogram\":[{\"marker\":{\"pattern\":{\"fillmode\":\"overlay\",\"size\":10,\"solidity\":0.2}},\"type\":\"histogram\"}],\"scattergl\":[{\"type\":\"scattergl\",\"marker\":{\"colorbar\":{\"outlinewidth\":0,\"ticks\":\"\"}}}],\"scatter3d\":[{\"type\":\"scatter3d\",\"line\":{\"colorbar\":{\"outlinewidth\":0,\"ticks\":\"\"}},\"marker\":{\"colorbar\":{\"outlinewidth\":0,\"ticks\":\"\"}}}],\"scattermapbox\":[{\"type\":\"scattermapbox\",\"marker\":{\"colorbar\":{\"outlinewidth\":0,\"ticks\":\"\"}}}],\"scatterternary\":[{\"type\":\"scatterternary\",\"marker\":{\"colorbar\":{\"outlinewidth\":0,\"ticks\":\"\"}}}],\"scattercarpet\":[{\"type\":\"scattercarpet\",\"marker\":{\"colorbar\":{\"outlinewidth\":0,\"ticks\":\"\"}}}],\"carpet\":[{\"aaxis\":{\"endlinecolor\":\"#2a3f5f\",\"gridcolor\":\"white\",\"linecolor\":\"white\",\"minorgridcolor\":\"white\",\"startlinecolor\":\"#2a3f5f\"},\"baxis\":{\"endlinecolor\":\"#2a3f5f\",\"gridcolor\":\"white\",\"linecolor\":\"white\",\"minorgridcolor\":\"white\",\"startlinecolor\":\"#2a3f5f\"},\"type\":\"carpet\"}],\"table\":[{\"cells\":{\"fill\":{\"color\":\"#EBF0F8\"},\"line\":{\"color\":\"white\"}},\"header\":{\"fill\":{\"color\":\"#C8D4E3\"},\"line\":{\"color\":\"white\"}},\"type\":\"table\"}],\"barpolar\":[{\"marker\":{\"line\":{\"color\":\"#E5ECF6\",\"width\":0.5},\"pattern\":{\"fillmode\":\"overlay\",\"size\":10,\"solidity\":0.2}},\"type\":\"barpolar\"}],\"pie\":[{\"automargin\":true,\"type\":\"pie\"}]},\"layout\":{\"autotypenumbers\":\"strict\",\"colorway\":[\"#636efa\",\"#EF553B\",\"#00cc96\",\"#ab63fa\",\"#FFA15A\",\"#19d3f3\",\"#FF6692\",\"#B6E880\",\"#FF97FF\",\"#FECB52\"],\"font\":{\"color\":\"#2a3f5f\"},\"hovermode\":\"closest\",\"hoverlabel\":{\"align\":\"left\"},\"paper_bgcolor\":\"white\",\"plot_bgcolor\":\"#E5ECF6\",\"polar\":{\"bgcolor\":\"#E5ECF6\",\"angularaxis\":{\"gridcolor\":\"white\",\"linecolor\":\"white\",\"ticks\":\"\"},\"radialaxis\":{\"gridcolor\":\"white\",\"linecolor\":\"white\",\"ticks\":\"\"}},\"ternary\":{\"bgcolor\":\"#E5ECF6\",\"aaxis\":{\"gridcolor\":\"white\",\"linecolor\":\"white\",\"ticks\":\"\"},\"baxis\":{\"gridcolor\":\"white\",\"linecolor\":\"white\",\"ticks\":\"\"},\"caxis\":{\"gridcolor\":\"white\",\"linecolor\":\"white\",\"ticks\":\"\"}},\"coloraxis\":{\"colorbar\":{\"outlinewidth\":0,\"ticks\":\"\"}},\"colorscale\":{\"sequential\":[[0.0,\"#0d0887\"],[0.1111111111111111,\"#46039f\"],[0.2222222222222222,\"#7201a8\"],[0.3333333333333333,\"#9c179e\"],[0.4444444444444444,\"#bd3786\"],[0.5555555555555556,\"#d8576b\"],[0.6666666666666666,\"#ed7953\"],[0.7777777777777778,\"#fb9f3a\"],[0.8888888888888888,\"#fdca26\"],[1.0,\"#f0f921\"]],\"sequentialminus\":[[0.0,\"#0d0887\"],[0.1111111111111111,\"#46039f\"],[0.2222222222222222,\"#7201a8\"],[0.3333333333333333,\"#9c179e\"],[0.4444444444444444,\"#bd3786\"],[0.5555555555555556,\"#d8576b\"],[0.6666666666666666,\"#ed7953\"],[0.7777777777777778,\"#fb9f3a\"],[0.8888888888888888,\"#fdca26\"],[1.0,\"#f0f921\"]],\"diverging\":[[0,\"#8e0152\"],[0.1,\"#c51b7d\"],[0.2,\"#de77ae\"],[0.3,\"#f1b6da\"],[0.4,\"#fde0ef\"],[0.5,\"#f7f7f7\"],[0.6,\"#e6f5d0\"],[0.7,\"#b8e186\"],[0.8,\"#7fbc41\"],[0.9,\"#4d9221\"],[1,\"#276419\"]]},\"xaxis\":{\"gridcolor\":\"white\",\"linecolor\":\"white\",\"ticks\":\"\",\"title\":{\"standoff\":15},\"zerolinecolor\":\"white\",\"automargin\":true,\"zerolinewidth\":2},\"yaxis\":{\"gridcolor\":\"white\",\"linecolor\":\"white\",\"ticks\":\"\",\"title\":{\"standoff\":15},\"zerolinecolor\":\"white\",\"automargin\":true,\"zerolinewidth\":2},\"scene\":{\"xaxis\":{\"backgroundcolor\":\"#E5ECF6\",\"gridcolor\":\"white\",\"linecolor\":\"white\",\"showbackground\":true,\"ticks\":\"\",\"zerolinecolor\":\"white\",\"gridwidth\":2},\"yaxis\":{\"backgroundcolor\":\"#E5ECF6\",\"gridcolor\":\"white\",\"linecolor\":\"white\",\"showbackground\":true,\"ticks\":\"\",\"zerolinecolor\":\"white\",\"gridwidth\":2},\"zaxis\":{\"backgroundcolor\":\"#E5ECF6\",\"gridcolor\":\"white\",\"linecolor\":\"white\",\"showbackground\":true,\"ticks\":\"\",\"zerolinecolor\":\"white\",\"gridwidth\":2}},\"shapedefaults\":{\"line\":{\"color\":\"#2a3f5f\"}},\"annotationdefaults\":{\"arrowcolor\":\"#2a3f5f\",\"arrowhead\":0,\"arrowwidth\":1},\"geo\":{\"bgcolor\":\"white\",\"landcolor\":\"#E5ECF6\",\"subunitcolor\":\"white\",\"showland\":true,\"showlakes\":true,\"lakecolor\":\"white\"},\"title\":{\"x\":0.05},\"mapbox\":{\"style\":\"light\"}}},\"xaxis\":{\"anchor\":\"y\",\"domain\":[0.0,1.0],\"title\":{\"text\":\"annee\"}},\"yaxis\":{\"anchor\":\"x\",\"domain\":[0.0,1.0],\"title\":{\"text\":\"taux_abstention\"},\"range\":[0,63.09870764876647]},\"legend\":{\"title\":{\"text\":\"tour\"},\"tracegroupgap\":0},\"title\":{\"text\":\"Taux d'abstention par \\u00e9lection et par tour: l\\u00e9gislatives\"}},                        {\"responsive\": true}                    ).then(function(){\n",
       "                            \n",
       "var gd = document.getElementById('78cbab44-efa1-4d4c-a813-5bc62705fccc');\n",
       "var x = new MutationObserver(function (mutations, observer) {{\n",
       "        var display = window.getComputedStyle(gd).display;\n",
       "        if (!display || display === 'none') {{\n",
       "            console.log([gd, 'removed!']);\n",
       "            Plotly.purge(gd);\n",
       "            observer.disconnect();\n",
       "        }}\n",
       "}});\n",
       "\n",
       "// Listen for the removal of the full notebook cells\n",
       "var notebookContainer = gd.closest('#notebook-container');\n",
       "if (notebookContainer) {{\n",
       "    x.observe(notebookContainer, {childList: true});\n",
       "}}\n",
       "\n",
       "// Listen for the clearing of the current output cell\n",
       "var outputEl = gd.closest('.output');\n",
       "if (outputEl) {{\n",
       "    x.observe(outputEl, {childList: true});\n",
       "}}\n",
       "\n",
       "                        })                };                });            </script>        </div>"
      ]
     },
     "metadata": {},
     "output_type": "display_data"
    }
   ],
   "source": [
    "inscrits = resultats_filtres.groupby('id_election')['Inscrits'].sum()\n",
    "abstenus = resultats_filtres.groupby('id_election')['Abstentions'].sum()\n",
    "taux = (abstenus/inscrits*100).reset_index().rename({\n",
    "    0: 'taux_abstention',\n",
    "}, axis=1)\n",
    "taux['tour'] = taux['id_election'].apply(lambda x: x.split('_')[-1])\n",
    "taux['annee'] = taux['id_election'].apply(lambda x: x.split('_')[0])\n",
    "\n",
    "fig = px.line(\n",
    "    taux,\n",
    "    x='annee',\n",
    "    y='taux_abstention',\n",
    "    color='tour',\n",
    "    title=f\"Taux d'abstention par élection et par tour: {mapping[election_type]}\",\n",
    ")\n",
    "fig.update_layout(\n",
    "    yaxis_range=(0, max(taux['taux_abstention'])*1.1)\n",
    ")\n",
    "fig.show()"
   ]
  },
  {
   "cell_type": "code",
   "execution_count": null,
   "id": "ce084559",
   "metadata": {},
   "outputs": [],
   "source": []
  }
 ],
 "metadata": {
  "kernelspec": {
   "display_name": "Python 3 (ipykernel)",
   "language": "python",
   "name": "python3"
  },
  "language_info": {
   "codemirror_mode": {
    "name": "ipython",
    "version": 3
   },
   "file_extension": ".py",
   "mimetype": "text/x-python",
   "name": "python",
   "nbconvert_exporter": "python",
   "pygments_lexer": "ipython3",
   "version": "3.10.8"
  }
 },
 "nbformat": 4,
 "nbformat_minor": 5
}
