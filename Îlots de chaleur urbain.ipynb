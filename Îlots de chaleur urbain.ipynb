{
 "cells": [
  {
   "cell_type": "markdown",
   "id": "5dc57dab",
   "metadata": {},
   "source": [
    "#  Défi open data : Îlots de chaleur urbain"
   ]
  },
  {
   "cell_type": "markdown",
   "id": "38012fe8",
   "metadata": {},
   "source": [
    "Les villes sont confrontées à un phénomène croissant d’« îlot de chaleur urbain » (ICU) : une différence de température entre les milieux urbains et les zones rurales environnantes (+4°C en moyenne et pouvant aller jusqu’à +12°C).\n",
    "\n",
    "Ce phénomène est lié à plusieurs facteurs (matériaux de construction des bâtiments, des voiries et autres infrastructures, occupation du sol, morphologie urbaine, déficit de végétalisation, activités humaines, etc.) et engendre des risques variés (pour la santé publique, les consommations énergétiques, l’attractivité des territoires, la biodiversité, etc.).\n",
    "\n",
    "**La problématique**\n",
    "\n",
    "Ce projet vous propose **d’identifier et de caractériser les zones pouvant être exposées à un effet d’îlot de chaleur urbain, ainsi que les zones à enjeu (habitées par des populations vulnérables)**, dans la commune de votre choix.\n",
    "\n",
    "Beaucoup de données ouvertes sont mises à disposition pour vous permettre de répondre à ce sujet. Plusieurs jeux de données ont déjà été chargés dans cet environnement ([cf. liste](https://defis.data.gouv.fr/defis/6639ea1a5fde712a09fa0c67/)) et vous pouvez bien évidemment en ajouter d’autres selon vos besoins.\n",
    "\n",
    "Une fois vos travaux terminés, partagez-les avec l’ensemble de la communauté [en publiant une réutilisation sur data.gouv.fr](https://guides.data.gouv.fr/guide-data.gouv.fr/reutilisations) !"
   ]
  },
  {
   "cell_type": "markdown",
   "id": "913c8a50",
   "metadata": {},
   "source": [
    "# Exemple de réalisation : ICU du futur, créé pendant le [Hackathon Météo France](https://www.data.gouv.fr/fr/posts/retour-sur-le-hackathon-donnees-ouvertes-meteo-france/)"
   ]
  },
  {
   "cell_type": "markdown",
   "id": "497fc8e4",
   "metadata": {},
   "source": [
    "#### https://www.data.gouv.fr/fr/reuses/des-icu-du-futur-1/"
   ]
  },
  {
   "cell_type": "code",
   "execution_count": null,
   "id": "c7ca21db",
   "metadata": {},
   "outputs": [],
   "source": []
  }
 ],
 "metadata": {
  "kernelspec": {
   "display_name": "Python 3 (ipykernel)",
   "language": "python",
   "name": "python3"
  },
  "language_info": {
   "codemirror_mode": {
    "name": "ipython",
    "version": 3
   },
   "file_extension": ".py",
   "mimetype": "text/x-python",
   "name": "python",
   "nbconvert_exporter": "python",
   "pygments_lexer": "ipython3",
   "version": "3.10.8"
  }
 },
 "nbformat": 4,
 "nbformat_minor": 5
}
