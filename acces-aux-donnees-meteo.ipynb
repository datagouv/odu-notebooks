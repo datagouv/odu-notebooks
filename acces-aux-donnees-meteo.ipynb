{
 "cells": [
  {
   "cell_type": "markdown",
   "id": "80def91c",
   "metadata": {},
   "source": [
    "# Défi open data : Accès aux données météos"
   ]
  },
  {
   "cell_type": "markdown",
   "id": "18007961",
   "metadata": {},
   "source": [
    "Collectées grâce à des stations au sol, des radars, etc. ou produites à partir de modèles de prévision, les données météorologiques sont foisonnantes.\n",
    "\n",
    "Il est néanmoins parfois difficile, pour les non spécialistes, de :\n",
    "* **trouver et accéder** aux informations recherchées ;\n",
    "* **prendre en main** les données (compréhension des données, gestion des différents formats, etc.).\n",
    "\n",
    "**La problématique**\n",
    "\n",
    "Ce projet vous propose de développer des solutions qui permettent de (au choix) :\n",
    "* **faciliter l’accès et la compréhension** des données publiques météorologiques ;\n",
    "* **simplifier la manipulation et l’exploitation** de ces données.\n",
    "\n",
    "Beaucoup de données ouvertes sont mises à disposition pour vous permettre de répondre à ce sujet. Plusieurs jeux de données ont déjà été chargés dans cet environnement ([cf. liste](https://defis.data.gouv.fr/defis/6639df879e70e0b00e5aeef1/)) et vous pouvez bien évidemment en ajouter d’autres selon vos besoins.\n",
    "\n",
    "Une fois vos travaux terminés, partagez-les avec l’ensemble de la communauté [en publiant une réutilisation sur data.gouv.fr](https://guides.data.gouv.fr/guide-data.gouv.fr/reutilisations) !"
   ]
  },
  {
   "cell_type": "markdown",
   "id": "526e209d",
   "metadata": {},
   "source": [
    "# Importer des données\n",
    "Nous mettons à disposition une fonction utilitaire qui permet de charger la majorité des ressources de data.gouv.fr à partir de leur identifiant sur le site (exemple : `\"2876a346-d50c-4911-934e-19ee07b0e503\"`). Vous pouvez l'utiliser comme suit :"
   ]
  },
  {
   "cell_type": "code",
   "execution_count": 1,
   "id": "74c846b5",
   "metadata": {
    "scrolled": true
   },
   "outputs": [
    {
     "data": {
      "text/html": [
       "<div>\n",
       "<style scoped>\n",
       "    .dataframe tbody tr th:only-of-type {\n",
       "        vertical-align: middle;\n",
       "    }\n",
       "\n",
       "    .dataframe tbody tr th {\n",
       "        vertical-align: top;\n",
       "    }\n",
       "\n",
       "    .dataframe thead th {\n",
       "        text-align: right;\n",
       "    }\n",
       "</style>\n",
       "<table border=\"1\" class=\"dataframe\">\n",
       "  <thead>\n",
       "    <tr style=\"text-align: right;\">\n",
       "      <th></th>\n",
       "      <th>longitude</th>\n",
       "      <th>latitude</th>\n",
       "      <th>date</th>\n",
       "      <th>ETP_grille</th>\n",
       "    </tr>\n",
       "  </thead>\n",
       "  <tbody>\n",
       "    <tr>\n",
       "      <th>0</th>\n",
       "      <td>-4.75</td>\n",
       "      <td>48.375</td>\n",
       "      <td>20240101</td>\n",
       "      <td>0.9</td>\n",
       "    </tr>\n",
       "    <tr>\n",
       "      <th>1</th>\n",
       "      <td>-4.75</td>\n",
       "      <td>48.375</td>\n",
       "      <td>20240102</td>\n",
       "      <td>1.3</td>\n",
       "    </tr>\n",
       "    <tr>\n",
       "      <th>2</th>\n",
       "      <td>-4.75</td>\n",
       "      <td>48.375</td>\n",
       "      <td>20240103</td>\n",
       "      <td>1.6</td>\n",
       "    </tr>\n",
       "    <tr>\n",
       "      <th>3</th>\n",
       "      <td>-4.75</td>\n",
       "      <td>48.375</td>\n",
       "      <td>20240104</td>\n",
       "      <td>1.2</td>\n",
       "    </tr>\n",
       "    <tr>\n",
       "      <th>4</th>\n",
       "      <td>-4.75</td>\n",
       "      <td>48.375</td>\n",
       "      <td>20240105</td>\n",
       "      <td>1.4</td>\n",
       "    </tr>\n",
       "    <tr>\n",
       "      <th>...</th>\n",
       "      <td>...</td>\n",
       "      <td>...</td>\n",
       "      <td>...</td>\n",
       "      <td>...</td>\n",
       "    </tr>\n",
       "    <tr>\n",
       "      <th>671809</th>\n",
       "      <td>9.50</td>\n",
       "      <td>42.625</td>\n",
       "      <td>20240606</td>\n",
       "      <td>4.7</td>\n",
       "    </tr>\n",
       "    <tr>\n",
       "      <th>671810</th>\n",
       "      <td>9.50</td>\n",
       "      <td>42.625</td>\n",
       "      <td>20240607</td>\n",
       "      <td>5.2</td>\n",
       "    </tr>\n",
       "    <tr>\n",
       "      <th>671811</th>\n",
       "      <td>9.50</td>\n",
       "      <td>42.625</td>\n",
       "      <td>20240608</td>\n",
       "      <td>5.4</td>\n",
       "    </tr>\n",
       "    <tr>\n",
       "      <th>671812</th>\n",
       "      <td>9.50</td>\n",
       "      <td>42.625</td>\n",
       "      <td>20240609</td>\n",
       "      <td>3.7</td>\n",
       "    </tr>\n",
       "    <tr>\n",
       "      <th>671813</th>\n",
       "      <td>9.50</td>\n",
       "      <td>42.625</td>\n",
       "      <td>20240610</td>\n",
       "      <td>5.0</td>\n",
       "    </tr>\n",
       "  </tbody>\n",
       "</table>\n",
       "<p>671814 rows × 4 columns</p>\n",
       "</div>"
      ],
      "text/plain": [
       "        longitude  latitude      date  ETP_grille\n",
       "0           -4.75    48.375  20240101         0.9\n",
       "1           -4.75    48.375  20240102         1.3\n",
       "2           -4.75    48.375  20240103         1.6\n",
       "3           -4.75    48.375  20240104         1.2\n",
       "4           -4.75    48.375  20240105         1.4\n",
       "...           ...       ...       ...         ...\n",
       "671809       9.50    42.625  20240606         4.7\n",
       "671810       9.50    42.625  20240607         5.2\n",
       "671811       9.50    42.625  20240608         5.4\n",
       "671812       9.50    42.625  20240609         3.7\n",
       "671813       9.50    42.625  20240610         5.0\n",
       "\n",
       "[671814 rows x 4 columns]"
      ]
     },
     "execution_count": 1,
     "metadata": {},
     "output_type": "execute_result"
    }
   ],
   "source": [
    "from utils import load_table_from_resource_id, DATAGOUV_URL\n",
    "import requests\n",
    "\n",
    "# on prend une ressource principale d'un jeu de données de Météo France\n",
    "resources = requests.get(DATAGOUV_URL + \"api/1/datasets/661d079b6357625e12013241/\").json()[\"resources\"]\n",
    "resources = [r for r in resources if r[\"type\"] == \"main\"]\n",
    "\n",
    "df = load_table_from_resource_id(resources[0][\"id\"])\n",
    "df"
   ]
  },
  {
   "cell_type": "markdown",
   "id": "c390c9eb",
   "metadata": {},
   "source": [
    "# Exemple de réalisation : EasyAccess, créé pendant le [Hackathon Météo France](https://www.data.gouv.fr/fr/posts/retour-sur-le-hackathon-donnees-ouvertes-meteo-france/)"
   ]
  },
  {
   "cell_type": "markdown",
   "id": "322c19cb",
   "metadata": {},
   "source": [
    "#### https://www.data.gouv.fr/fr/reuses/meteofranceapi-easyacces/"
   ]
  },
  {
   "cell_type": "code",
   "execution_count": null,
   "id": "1b29f342",
   "metadata": {},
   "outputs": [],
   "source": []
  }
 ],
 "metadata": {
  "kernelspec": {
   "display_name": "Python 3 (ipykernel)",
   "language": "python",
   "name": "python3"
  },
  "language_info": {
   "codemirror_mode": {
    "name": "ipython",
    "version": 3
   },
   "file_extension": ".py",
   "mimetype": "text/x-python",
   "name": "python",
   "nbconvert_exporter": "python",
   "pygments_lexer": "ipython3",
   "version": "3.10.8"
  }
 },
 "nbformat": 4,
 "nbformat_minor": 5
}
