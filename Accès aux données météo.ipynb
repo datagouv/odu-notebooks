{
 "cells": [
  {
   "cell_type": "markdown",
   "id": "80def91c",
   "metadata": {},
   "source": [
    "# Défi open data : Accès aux données météos"
   ]
  },
  {
   "cell_type": "markdown",
   "id": "18007961",
   "metadata": {},
   "source": [
    "Collectées grâce à des stations au sol, des radars, etc. ou produites à partir de modèles de prévision, les données météorologiques sont foisonnantes.\n",
    "\n",
    "Il est néanmoins parfois difficile, pour les non spécialistes, de :\n",
    "* **trouver et accéder** aux informations recherchées ;\n",
    "* **prendre en main** les données (compréhension des données, gestion des différents formats, etc.).\n",
    "\n",
    "**La problématique**\n",
    "\n",
    "Ce projet vous propose de développer des solutions qui permettent de (au choix) :\n",
    "* **faciliter l’accès et la compréhension** des données publiques météorologiques ;\n",
    "* **simplifier la manipulation et l’exploitation** de ces données.\n",
    "\n",
    "Beaucoup de données ouvertes sont mises à disposition pour vous permettre de répondre à ce sujet. Plusieurs jeux de données ont déjà été chargés dans cet environnement ([cf. liste](https://defis.data.gouv.fr/defis/6639df879e70e0b00e5aeef1/)) et vous pouvez bien évidemment en ajouter d’autres selon vos besoins.\n",
    "\n",
    "Une fois vos travaux terminés, partagez-les avec l’ensemble de la communauté [en publiant une réutilisation sur data.gouv.fr](https://guides.data.gouv.fr/guide-data.gouv.fr/reutilisations) !"
   ]
  },
  {
   "cell_type": "markdown",
   "id": "c390c9eb",
   "metadata": {},
   "source": [
    "# Exemple de réalisation : EasyAccess, créé pendant le [Hackathon Météo France](https://www.data.gouv.fr/fr/posts/retour-sur-le-hackathon-donnees-ouvertes-meteo-france/)"
   ]
  },
  {
   "cell_type": "markdown",
   "id": "322c19cb",
   "metadata": {},
   "source": [
    "#### https://www.data.gouv.fr/fr/reuses/meteofranceapi-easyacces/"
   ]
  },
  {
   "cell_type": "code",
   "execution_count": null,
   "id": "b00c160d",
   "metadata": {},
   "outputs": [],
   "source": []
  }
 ],
 "metadata": {
  "kernelspec": {
   "display_name": "Python 3 (ipykernel)",
   "language": "python",
   "name": "python3"
  },
  "language_info": {
   "codemirror_mode": {
    "name": "ipython",
    "version": 3
   },
   "file_extension": ".py",
   "mimetype": "text/x-python",
   "name": "python",
   "nbconvert_exporter": "python",
   "pygments_lexer": "ipython3",
   "version": "3.10.8"
  }
 },
 "nbformat": 4,
 "nbformat_minor": 5
}
